{
 "cells": [
  {
   "attachments": {},
   "cell_type": "markdown",
   "metadata": {},
   "source": [
    "# Phishing Website Detection "
   ]
  },
  {
   "attachments": {},
   "cell_type": "markdown",
   "metadata": {},
   "source": [
    "Step -1 : Data preprocessing \n",
    "\n",
    "This dataset contains few website links (Some of them are legitimate websites and a few are fake websites)\n",
    "\n",
    "Pre-Processing the data before building a model and also Extracting the features from the data based on certain conditions"
   ]
  },
  {
   "cell_type": "code",
   "execution_count": 1,
   "metadata": {},
   "outputs": [],
   "source": [
    "#importing numpy and pandas which are required for data pre-processing\n",
    "import numpy as np\n",
    "import pandas as pd"
   ]
  },
  {
   "cell_type": "code",
   "execution_count": 2,
   "metadata": {},
   "outputs": [],
   "source": [
    "#Loading the data\n",
    "raw_data = pd.read_csv(\"dataset2.csv\") "
   ]
  },
  {
   "cell_type": "code",
   "execution_count": 3,
   "metadata": {},
   "outputs": [
    {
     "data": {
      "text/html": [
       "<div>\n",
       "<style scoped>\n",
       "    .dataframe tbody tr th:only-of-type {\n",
       "        vertical-align: middle;\n",
       "    }\n",
       "\n",
       "    .dataframe tbody tr th {\n",
       "        vertical-align: top;\n",
       "    }\n",
       "\n",
       "    .dataframe thead th {\n",
       "        text-align: right;\n",
       "    }\n",
       "</style>\n",
       "<table border=\"1\" class=\"dataframe\">\n",
       "  <thead>\n",
       "    <tr style=\"text-align: right;\">\n",
       "      <th></th>\n",
       "      <th>URL</th>\n",
       "      <th>Target</th>\n",
       "    </tr>\n",
       "  </thead>\n",
       "  <tbody>\n",
       "    <tr>\n",
       "      <th>0</th>\n",
       "      <td>https://locking-app-adverds.000webhostapp.com/...</td>\n",
       "      <td>yes</td>\n",
       "    </tr>\n",
       "    <tr>\n",
       "      <th>1</th>\n",
       "      <td>http://www.myhealthcarepharmacy.ca/wp-includes...</td>\n",
       "      <td>yes</td>\n",
       "    </tr>\n",
       "    <tr>\n",
       "      <th>2</th>\n",
       "      <td>http://code.google.com/p/pylevenshtein/</td>\n",
       "      <td>no</td>\n",
       "    </tr>\n",
       "    <tr>\n",
       "      <th>3</th>\n",
       "      <td>http://linkedin.com/</td>\n",
       "      <td>no</td>\n",
       "    </tr>\n",
       "    <tr>\n",
       "      <th>4</th>\n",
       "      <td>http://imageshack.com/f/219/cadir2yr3.jpg</td>\n",
       "      <td>no</td>\n",
       "    </tr>\n",
       "  </tbody>\n",
       "</table>\n",
       "</div>"
      ],
      "text/plain": [
       "                                                 URL Target\n",
       "0  https://locking-app-adverds.000webhostapp.com/...    yes\n",
       "1  http://www.myhealthcarepharmacy.ca/wp-includes...    yes\n",
       "2            http://code.google.com/p/pylevenshtein/     no\n",
       "3                               http://linkedin.com/     no\n",
       "4          http://imageshack.com/f/219/cadir2yr3.jpg     no"
      ]
     },
     "execution_count": 3,
     "metadata": {},
     "output_type": "execute_result"
    }
   ],
   "source": [
    "raw_data.head()"
   ]
  },
  {
   "attachments": {},
   "cell_type": "markdown",
   "metadata": {},
   "source": [
    "We need to split the data according to parts of the URL\n",
    "\n",
    "A typical URL could have the form http://www.example.com/index.html, which indicates a protocol (http), a hostname (www.example.com), and a file name (index.html)."
   ]
  },
  {
   "cell_type": "code",
   "execution_count": 4,
   "metadata": {},
   "outputs": [
    {
     "data": {
      "text/plain": [
       "0    [https, locking-app-adverds.000webhostapp.com/...\n",
       "1    [http, www.myhealthcarepharmacy.ca/wp-includes...\n",
       "2             [http, code.google.com/p/pylevenshtein/]\n",
       "3                                [http, linkedin.com/]\n",
       "4           [http, imageshack.com/f/219/cadir2yr3.jpg]\n",
       "Name: URL, dtype: object"
      ]
     },
     "execution_count": 4,
     "metadata": {},
     "output_type": "execute_result"
    }
   ],
   "source": [
    "raw_data['URL'].str.split(\"://\").head() #Here we divided the protocol from the entire URL. but need it to be divided it \n",
    "                                                 #seperate column"
   ]
  },
  {
   "cell_type": "code",
   "execution_count": 5,
   "metadata": {},
   "outputs": [],
   "source": [
    "seperation_of_protocol = raw_data['URL'].str.split(\"://\",expand = True) #expand argument in the split method will give you a new column"
   ]
  },
  {
   "cell_type": "code",
   "execution_count": 56,
   "metadata": {},
   "outputs": [
    {
     "data": {
      "text/html": [
       "<div>\n",
       "<style scoped>\n",
       "    .dataframe tbody tr th:only-of-type {\n",
       "        vertical-align: middle;\n",
       "    }\n",
       "\n",
       "    .dataframe tbody tr th {\n",
       "        vertical-align: top;\n",
       "    }\n",
       "\n",
       "    .dataframe thead th {\n",
       "        text-align: right;\n",
       "    }\n",
       "</style>\n",
       "<table border=\"1\" class=\"dataframe\">\n",
       "  <thead>\n",
       "    <tr style=\"text-align: right;\">\n",
       "      <th></th>\n",
       "      <th>0</th>\n",
       "      <th>1</th>\n",
       "      <th>2</th>\n",
       "      <th>3</th>\n",
       "      <th>4</th>\n",
       "      <th>5</th>\n",
       "      <th>6</th>\n",
       "    </tr>\n",
       "  </thead>\n",
       "  <tbody>\n",
       "    <tr>\n",
       "      <th>0</th>\n",
       "      <td>https</td>\n",
       "      <td>locking-app-adverds.000webhostapp.com/payment-...</td>\n",
       "      <td>None</td>\n",
       "      <td>None</td>\n",
       "      <td>None</td>\n",
       "      <td>None</td>\n",
       "      <td>None</td>\n",
       "    </tr>\n",
       "    <tr>\n",
       "      <th>1</th>\n",
       "      <td>http</td>\n",
       "      <td>www.myhealthcarepharmacy.ca/wp-includes/js/jqu...</td>\n",
       "      <td>None</td>\n",
       "      <td>None</td>\n",
       "      <td>None</td>\n",
       "      <td>None</td>\n",
       "      <td>None</td>\n",
       "    </tr>\n",
       "    <tr>\n",
       "      <th>2</th>\n",
       "      <td>http</td>\n",
       "      <td>code.google.com/p/pylevenshtein/</td>\n",
       "      <td>None</td>\n",
       "      <td>None</td>\n",
       "      <td>None</td>\n",
       "      <td>None</td>\n",
       "      <td>None</td>\n",
       "    </tr>\n",
       "    <tr>\n",
       "      <th>3</th>\n",
       "      <td>http</td>\n",
       "      <td>linkedin.com/</td>\n",
       "      <td>None</td>\n",
       "      <td>None</td>\n",
       "      <td>None</td>\n",
       "      <td>None</td>\n",
       "      <td>None</td>\n",
       "    </tr>\n",
       "    <tr>\n",
       "      <th>4</th>\n",
       "      <td>http</td>\n",
       "      <td>imageshack.com/f/219/cadir2yr3.jpg</td>\n",
       "      <td>None</td>\n",
       "      <td>None</td>\n",
       "      <td>None</td>\n",
       "      <td>None</td>\n",
       "      <td>None</td>\n",
       "    </tr>\n",
       "  </tbody>\n",
       "</table>\n",
       "</div>"
      ],
      "text/plain": [
       "       0                                                  1     2     3     4  \\\n",
       "0  https  locking-app-adverds.000webhostapp.com/payment-...  None  None  None   \n",
       "1   http  www.myhealthcarepharmacy.ca/wp-includes/js/jqu...  None  None  None   \n",
       "2   http                   code.google.com/p/pylevenshtein/  None  None  None   \n",
       "3   http                                      linkedin.com/  None  None  None   \n",
       "4   http                 imageshack.com/f/219/cadir2yr3.jpg  None  None  None   \n",
       "\n",
       "      5     6  \n",
       "0  None  None  \n",
       "1  None  None  \n",
       "2  None  None  \n",
       "3  None  None  \n",
       "4  None  None  "
      ]
     },
     "execution_count": 56,
     "metadata": {},
     "output_type": "execute_result"
    }
   ],
   "source": [
    "seperation_of_protocol.head()"
   ]
  },
  {
   "cell_type": "code",
   "execution_count": 7,
   "metadata": {},
   "outputs": [
    {
     "data": {
      "text/plain": [
       "pandas.core.frame.DataFrame"
      ]
     },
     "execution_count": 7,
     "metadata": {},
     "output_type": "execute_result"
    }
   ],
   "source": [
    "type(seperation_of_protocol)"
   ]
  },
  {
   "cell_type": "code",
   "execution_count": 8,
   "metadata": {},
   "outputs": [
    {
     "name": "stderr",
     "output_type": "stream",
     "text": [
      "C:\\Users\\ASUS\\AppData\\Local\\Temp\\ipykernel_7936\\3656433041.py:1: FutureWarning: In a future version of pandas all arguments of StringMethods.split except for the argument 'pat' will be keyword-only.\n",
      "  seperation_domain_name = seperation_of_protocol[1].str.split(\"/\",1,expand = True) #split(seperator,no of splits according to seperator(delimiter),expand)\n"
     ]
    }
   ],
   "source": [
    "seperation_domain_name = seperation_of_protocol[1].str.split(\"/\",1,expand = True) #split(seperator,no of splits according to seperator(delimiter),expand)"
   ]
  },
  {
   "cell_type": "code",
   "execution_count": 9,
   "metadata": {},
   "outputs": [
    {
     "data": {
      "text/plain": [
       "pandas.core.frame.DataFrame"
      ]
     },
     "execution_count": 9,
     "metadata": {},
     "output_type": "execute_result"
    }
   ],
   "source": [
    "type(seperation_domain_name)"
   ]
  },
  {
   "cell_type": "code",
   "execution_count": 57,
   "metadata": {},
   "outputs": [],
   "source": [
    "seperation_domain_name.columns=[\"domain_name\",\"address\"] #renaming columns of data frame"
   ]
  },
  {
   "cell_type": "code",
   "execution_count": 12,
   "metadata": {},
   "outputs": [],
   "source": [
    "#Concatenation of data frames\n",
    "splitted_data = pd.concat([seperation_of_protocol[0],seperation_domain_name],axis=1)\n"
   ]
  },
  {
   "cell_type": "code",
   "execution_count": 13,
   "metadata": {},
   "outputs": [],
   "source": [
    "splitted_data.columns = ['protocol','domain_name','address']"
   ]
  },
  {
   "cell_type": "code",
   "execution_count": 14,
   "metadata": {},
   "outputs": [
    {
     "data": {
      "text/html": [
       "<div>\n",
       "<style scoped>\n",
       "    .dataframe tbody tr th:only-of-type {\n",
       "        vertical-align: middle;\n",
       "    }\n",
       "\n",
       "    .dataframe tbody tr th {\n",
       "        vertical-align: top;\n",
       "    }\n",
       "\n",
       "    .dataframe thead th {\n",
       "        text-align: right;\n",
       "    }\n",
       "</style>\n",
       "<table border=\"1\" class=\"dataframe\">\n",
       "  <thead>\n",
       "    <tr style=\"text-align: right;\">\n",
       "      <th></th>\n",
       "      <th>protocol</th>\n",
       "      <th>domain_name</th>\n",
       "      <th>address</th>\n",
       "    </tr>\n",
       "  </thead>\n",
       "  <tbody>\n",
       "    <tr>\n",
       "      <th>0</th>\n",
       "      <td>https</td>\n",
       "      <td>locking-app-adverds.000webhostapp.com</td>\n",
       "      <td>payment-update-0.html?fb_source=bookmark_apps&amp;...</td>\n",
       "    </tr>\n",
       "    <tr>\n",
       "      <th>1</th>\n",
       "      <td>http</td>\n",
       "      <td>www.myhealthcarepharmacy.ca</td>\n",
       "      <td>wp-includes/js/jquery/ini.php</td>\n",
       "    </tr>\n",
       "    <tr>\n",
       "      <th>2</th>\n",
       "      <td>http</td>\n",
       "      <td>code.google.com</td>\n",
       "      <td>p/pylevenshtein/</td>\n",
       "    </tr>\n",
       "    <tr>\n",
       "      <th>3</th>\n",
       "      <td>http</td>\n",
       "      <td>linkedin.com</td>\n",
       "      <td></td>\n",
       "    </tr>\n",
       "    <tr>\n",
       "      <th>4</th>\n",
       "      <td>http</td>\n",
       "      <td>imageshack.com</td>\n",
       "      <td>f/219/cadir2yr3.jpg</td>\n",
       "    </tr>\n",
       "  </tbody>\n",
       "</table>\n",
       "</div>"
      ],
      "text/plain": [
       "  protocol                            domain_name  \\\n",
       "0    https  locking-app-adverds.000webhostapp.com   \n",
       "1     http            www.myhealthcarepharmacy.ca   \n",
       "2     http                        code.google.com   \n",
       "3     http                           linkedin.com   \n",
       "4     http                         imageshack.com   \n",
       "\n",
       "                                             address  \n",
       "0  payment-update-0.html?fb_source=bookmark_apps&...  \n",
       "1                      wp-includes/js/jquery/ini.php  \n",
       "2                                   p/pylevenshtein/  \n",
       "3                                                     \n",
       "4                                f/219/cadir2yr3.jpg  "
      ]
     },
     "execution_count": 14,
     "metadata": {},
     "output_type": "execute_result"
    }
   ],
   "source": [
    "splitted_data.head()"
   ]
  },
  {
   "cell_type": "code",
   "execution_count": 15,
   "metadata": {},
   "outputs": [],
   "source": [
    "splitted_data['is_phished'] = pd.Series(raw_data['Target'], index=splitted_data.index)"
   ]
  },
  {
   "cell_type": "code",
   "execution_count": 16,
   "metadata": {},
   "outputs": [
    {
     "data": {
      "text/html": [
       "<div>\n",
       "<style scoped>\n",
       "    .dataframe tbody tr th:only-of-type {\n",
       "        vertical-align: middle;\n",
       "    }\n",
       "\n",
       "    .dataframe tbody tr th {\n",
       "        vertical-align: top;\n",
       "    }\n",
       "\n",
       "    .dataframe thead th {\n",
       "        text-align: right;\n",
       "    }\n",
       "</style>\n",
       "<table border=\"1\" class=\"dataframe\">\n",
       "  <thead>\n",
       "    <tr style=\"text-align: right;\">\n",
       "      <th></th>\n",
       "      <th>protocol</th>\n",
       "      <th>domain_name</th>\n",
       "      <th>address</th>\n",
       "      <th>is_phished</th>\n",
       "    </tr>\n",
       "  </thead>\n",
       "  <tbody>\n",
       "    <tr>\n",
       "      <th>0</th>\n",
       "      <td>https</td>\n",
       "      <td>locking-app-adverds.000webhostapp.com</td>\n",
       "      <td>payment-update-0.html?fb_source=bookmark_apps&amp;...</td>\n",
       "      <td>yes</td>\n",
       "    </tr>\n",
       "    <tr>\n",
       "      <th>1</th>\n",
       "      <td>http</td>\n",
       "      <td>www.myhealthcarepharmacy.ca</td>\n",
       "      <td>wp-includes/js/jquery/ini.php</td>\n",
       "      <td>yes</td>\n",
       "    </tr>\n",
       "    <tr>\n",
       "      <th>2</th>\n",
       "      <td>http</td>\n",
       "      <td>code.google.com</td>\n",
       "      <td>p/pylevenshtein/</td>\n",
       "      <td>no</td>\n",
       "    </tr>\n",
       "    <tr>\n",
       "      <th>3</th>\n",
       "      <td>http</td>\n",
       "      <td>linkedin.com</td>\n",
       "      <td></td>\n",
       "      <td>no</td>\n",
       "    </tr>\n",
       "    <tr>\n",
       "      <th>4</th>\n",
       "      <td>http</td>\n",
       "      <td>imageshack.com</td>\n",
       "      <td>f/219/cadir2yr3.jpg</td>\n",
       "      <td>no</td>\n",
       "    </tr>\n",
       "    <tr>\n",
       "      <th>...</th>\n",
       "      <td>...</td>\n",
       "      <td>...</td>\n",
       "      <td>...</td>\n",
       "      <td>...</td>\n",
       "    </tr>\n",
       "    <tr>\n",
       "      <th>1776</th>\n",
       "      <td>https</td>\n",
       "      <td>docs.google.com</td>\n",
       "      <td>document/u/1/</td>\n",
       "      <td>no</td>\n",
       "    </tr>\n",
       "    <tr>\n",
       "      <th>1777</th>\n",
       "      <td>http</td>\n",
       "      <td>www.charlestodd.com</td>\n",
       "      <td>wp-includes/pomo/adobe2.html</td>\n",
       "      <td>yes</td>\n",
       "    </tr>\n",
       "    <tr>\n",
       "      <th>1778</th>\n",
       "      <td>http</td>\n",
       "      <td>tslimpact.com</td>\n",
       "      <td>medsynaptic/wp-content/themes/twentyseventeen/...</td>\n",
       "      <td>yes</td>\n",
       "    </tr>\n",
       "    <tr>\n",
       "      <th>1779</th>\n",
       "      <td>http</td>\n",
       "      <td>daoudilorin11.mystagingwebsite.com</td>\n",
       "      <td>wp-content/plugins/ubh/acc/dir/68e1c/dir/car.php</td>\n",
       "      <td>yes</td>\n",
       "    </tr>\n",
       "    <tr>\n",
       "      <th>1780</th>\n",
       "      <td>https</td>\n",
       "      <td>stom05.ru</td>\n",
       "      <td>asb.co.nz</td>\n",
       "      <td>yes</td>\n",
       "    </tr>\n",
       "  </tbody>\n",
       "</table>\n",
       "<p>1781 rows × 4 columns</p>\n",
       "</div>"
      ],
      "text/plain": [
       "     protocol                            domain_name  \\\n",
       "0       https  locking-app-adverds.000webhostapp.com   \n",
       "1        http            www.myhealthcarepharmacy.ca   \n",
       "2        http                        code.google.com   \n",
       "3        http                           linkedin.com   \n",
       "4        http                         imageshack.com   \n",
       "...       ...                                    ...   \n",
       "1776    https                        docs.google.com   \n",
       "1777     http                    www.charlestodd.com   \n",
       "1778     http                          tslimpact.com   \n",
       "1779     http     daoudilorin11.mystagingwebsite.com   \n",
       "1780    https                              stom05.ru   \n",
       "\n",
       "                                                address is_phished  \n",
       "0     payment-update-0.html?fb_source=bookmark_apps&...        yes  \n",
       "1                         wp-includes/js/jquery/ini.php        yes  \n",
       "2                                      p/pylevenshtein/         no  \n",
       "3                                                               no  \n",
       "4                                   f/219/cadir2yr3.jpg         no  \n",
       "...                                                 ...        ...  \n",
       "1776                                      document/u/1/         no  \n",
       "1777                       wp-includes/pomo/adobe2.html        yes  \n",
       "1778  medsynaptic/wp-content/themes/twentyseventeen/...        yes  \n",
       "1779   wp-content/plugins/ubh/acc/dir/68e1c/dir/car.php        yes  \n",
       "1780                                          asb.co.nz        yes  \n",
       "\n",
       "[1781 rows x 4 columns]"
      ]
     },
     "execution_count": 16,
     "metadata": {},
     "output_type": "execute_result"
    }
   ],
   "source": [
    "splitted_data"
   ]
  },
  {
   "attachments": {},
   "cell_type": "markdown",
   "metadata": {},
   "source": [
    "Domain name column can be further sub divided into domain_names as well as sub_domain_names \n",
    "\n",
    "Similarly, address column can also be further sub divided into path,query_string,file.................."
   ]
  },
  {
   "cell_type": "code",
   "execution_count": 17,
   "metadata": {},
   "outputs": [
    {
     "data": {
      "text/plain": [
       "pandas.core.frame.DataFrame"
      ]
     },
     "execution_count": 17,
     "metadata": {},
     "output_type": "execute_result"
    }
   ],
   "source": [
    "type(splitted_data)"
   ]
  },
  {
   "attachments": {},
   "cell_type": "markdown",
   "metadata": {},
   "source": [
    "### Features Extraction"
   ]
  },
  {
   "attachments": {},
   "cell_type": "markdown",
   "metadata": {},
   "source": [
    "\n",
    "Feature-1\n",
    "\n",
    "1.Long URL to Hide the Suspicious Part\n",
    "\n",
    "If the length of the URL is greater than or equal 54 characters then the URL classified as phishing\n",
    "\n",
    "\n",
    "0 --- indicates legitimate\n",
    "\n",
    "1 --- indicates Phishing\n",
    "\n",
    "2 --- indicates Suspicious"
   ]
  },
  {
   "cell_type": "code",
   "execution_count": 18,
   "metadata": {},
   "outputs": [],
   "source": [
    "def long_url(l):\n",
    "    l= str(l)\n",
    "    \"\"\"This function is defined in order to differntiate website based on the length of the URL\"\"\"\n",
    "    if len(l) < 54:\n",
    "        return 0\n",
    "    elif len(l) >= 54 and len(l) <= 75:\n",
    "        return 2\n",
    "    return 1"
   ]
  },
  {
   "cell_type": "code",
   "execution_count": 19,
   "metadata": {},
   "outputs": [],
   "source": [
    "#Applying the above defined function in order to divide the websites into 3 categories\n",
    "splitted_data['long_url'] = raw_data['URL'].apply(long_url) \n"
   ]
  },
  {
   "cell_type": "code",
   "execution_count": 20,
   "metadata": {},
   "outputs": [
    {
     "data": {
      "text/html": [
       "<div>\n",
       "<style scoped>\n",
       "    .dataframe tbody tr th:only-of-type {\n",
       "        vertical-align: middle;\n",
       "    }\n",
       "\n",
       "    .dataframe tbody tr th {\n",
       "        vertical-align: top;\n",
       "    }\n",
       "\n",
       "    .dataframe thead th {\n",
       "        text-align: right;\n",
       "    }\n",
       "</style>\n",
       "<table border=\"1\" class=\"dataframe\">\n",
       "  <thead>\n",
       "    <tr style=\"text-align: right;\">\n",
       "      <th></th>\n",
       "      <th>protocol</th>\n",
       "      <th>domain_name</th>\n",
       "      <th>address</th>\n",
       "      <th>is_phished</th>\n",
       "      <th>long_url</th>\n",
       "    </tr>\n",
       "  </thead>\n",
       "  <tbody>\n",
       "    <tr>\n",
       "      <th>2</th>\n",
       "      <td>http</td>\n",
       "      <td>code.google.com</td>\n",
       "      <td>p/pylevenshtein/</td>\n",
       "      <td>no</td>\n",
       "      <td>0</td>\n",
       "    </tr>\n",
       "    <tr>\n",
       "      <th>3</th>\n",
       "      <td>http</td>\n",
       "      <td>linkedin.com</td>\n",
       "      <td></td>\n",
       "      <td>no</td>\n",
       "      <td>0</td>\n",
       "    </tr>\n",
       "    <tr>\n",
       "      <th>4</th>\n",
       "      <td>http</td>\n",
       "      <td>imageshack.com</td>\n",
       "      <td>f/219/cadir2yr3.jpg</td>\n",
       "      <td>no</td>\n",
       "      <td>0</td>\n",
       "    </tr>\n",
       "    <tr>\n",
       "      <th>6</th>\n",
       "      <td>http</td>\n",
       "      <td>www.7-zip.org</td>\n",
       "      <td>download.html</td>\n",
       "      <td>no</td>\n",
       "      <td>0</td>\n",
       "    </tr>\n",
       "    <tr>\n",
       "      <th>7</th>\n",
       "      <td>http</td>\n",
       "      <td>ebay.com</td>\n",
       "      <td></td>\n",
       "      <td>no</td>\n",
       "      <td>0</td>\n",
       "    </tr>\n",
       "    <tr>\n",
       "      <th>...</th>\n",
       "      <td>...</td>\n",
       "      <td>...</td>\n",
       "      <td>...</td>\n",
       "      <td>...</td>\n",
       "      <td>...</td>\n",
       "    </tr>\n",
       "    <tr>\n",
       "      <th>1766</th>\n",
       "      <td>http</td>\n",
       "      <td>malomolk.com</td>\n",
       "      <td>nab/cardinfo.html</td>\n",
       "      <td>yes</td>\n",
       "      <td>0</td>\n",
       "    </tr>\n",
       "    <tr>\n",
       "      <th>1774</th>\n",
       "      <td>http</td>\n",
       "      <td>www.dpincsupport.com</td>\n",
       "      <td></td>\n",
       "      <td>no</td>\n",
       "      <td>0</td>\n",
       "    </tr>\n",
       "    <tr>\n",
       "      <th>1775</th>\n",
       "      <td>https</td>\n",
       "      <td>bitcoin.org</td>\n",
       "      <td>en/</td>\n",
       "      <td>no</td>\n",
       "      <td>0</td>\n",
       "    </tr>\n",
       "    <tr>\n",
       "      <th>1776</th>\n",
       "      <td>https</td>\n",
       "      <td>docs.google.com</td>\n",
       "      <td>document/u/1/</td>\n",
       "      <td>no</td>\n",
       "      <td>0</td>\n",
       "    </tr>\n",
       "    <tr>\n",
       "      <th>1780</th>\n",
       "      <td>https</td>\n",
       "      <td>stom05.ru</td>\n",
       "      <td>asb.co.nz</td>\n",
       "      <td>yes</td>\n",
       "      <td>0</td>\n",
       "    </tr>\n",
       "  </tbody>\n",
       "</table>\n",
       "<p>745 rows × 5 columns</p>\n",
       "</div>"
      ],
      "text/plain": [
       "     protocol           domain_name              address is_phished  long_url\n",
       "2        http       code.google.com     p/pylevenshtein/         no         0\n",
       "3        http          linkedin.com                              no         0\n",
       "4        http        imageshack.com  f/219/cadir2yr3.jpg         no         0\n",
       "6        http         www.7-zip.org        download.html         no         0\n",
       "7        http              ebay.com                              no         0\n",
       "...       ...                   ...                  ...        ...       ...\n",
       "1766     http          malomolk.com    nab/cardinfo.html        yes         0\n",
       "1774     http  www.dpincsupport.com                              no         0\n",
       "1775    https           bitcoin.org                  en/         no         0\n",
       "1776    https       docs.google.com        document/u/1/         no         0\n",
       "1780    https             stom05.ru            asb.co.nz        yes         0\n",
       "\n",
       "[745 rows x 5 columns]"
      ]
     },
     "execution_count": 20,
     "metadata": {},
     "output_type": "execute_result"
    }
   ],
   "source": [
    "#Will show the results only the websites which are legitimate according to above condition as 0 is legitimate website\n",
    "splitted_data[splitted_data.long_url == 0] "
   ]
  },
  {
   "attachments": {},
   "cell_type": "markdown",
   "metadata": {},
   "source": [
    "Feature-2\n",
    "\n",
    "2.URL’s having “@” Symbol\n",
    "\n",
    "Using “@” symbol in the URL leads the browser to ignore everything preceding the “@” symbol and the real address often follows the “@” symbol.\n",
    "\n",
    "IF {Url Having @ Symbol→ Phishing\n",
    "    Otherwise→ Legitimate }\n",
    "\n",
    "\n",
    "0 --- indicates legitimate\n",
    "\n",
    "1 --- indicates Phishing\n"
   ]
  },
  {
   "cell_type": "code",
   "execution_count": 21,
   "metadata": {},
   "outputs": [],
   "source": [
    "def have_at_symbol(l):\n",
    "    \"\"\"This function is used to check whether the URL contains @ symbol or not\"\"\"\n",
    "    if \"@\" in str(l):\n",
    "        return 1\n",
    "    return 0\n",
    "    "
   ]
  },
  {
   "cell_type": "code",
   "execution_count": 22,
   "metadata": {},
   "outputs": [],
   "source": [
    "splitted_data['having_@_symbol'] = raw_data['URL'].apply(have_at_symbol)"
   ]
  },
  {
   "cell_type": "code",
   "execution_count": 23,
   "metadata": {},
   "outputs": [
    {
     "data": {
      "text/html": [
       "<div>\n",
       "<style scoped>\n",
       "    .dataframe tbody tr th:only-of-type {\n",
       "        vertical-align: middle;\n",
       "    }\n",
       "\n",
       "    .dataframe tbody tr th {\n",
       "        vertical-align: top;\n",
       "    }\n",
       "\n",
       "    .dataframe thead th {\n",
       "        text-align: right;\n",
       "    }\n",
       "</style>\n",
       "<table border=\"1\" class=\"dataframe\">\n",
       "  <thead>\n",
       "    <tr style=\"text-align: right;\">\n",
       "      <th></th>\n",
       "      <th>protocol</th>\n",
       "      <th>domain_name</th>\n",
       "      <th>address</th>\n",
       "      <th>is_phished</th>\n",
       "      <th>long_url</th>\n",
       "      <th>having_@_symbol</th>\n",
       "    </tr>\n",
       "  </thead>\n",
       "  <tbody>\n",
       "    <tr>\n",
       "      <th>0</th>\n",
       "      <td>https</td>\n",
       "      <td>locking-app-adverds.000webhostapp.com</td>\n",
       "      <td>payment-update-0.html?fb_source=bookmark_apps&amp;...</td>\n",
       "      <td>yes</td>\n",
       "      <td>1</td>\n",
       "      <td>0</td>\n",
       "    </tr>\n",
       "    <tr>\n",
       "      <th>1</th>\n",
       "      <td>http</td>\n",
       "      <td>www.myhealthcarepharmacy.ca</td>\n",
       "      <td>wp-includes/js/jquery/ini.php</td>\n",
       "      <td>yes</td>\n",
       "      <td>2</td>\n",
       "      <td>0</td>\n",
       "    </tr>\n",
       "    <tr>\n",
       "      <th>2</th>\n",
       "      <td>http</td>\n",
       "      <td>code.google.com</td>\n",
       "      <td>p/pylevenshtein/</td>\n",
       "      <td>no</td>\n",
       "      <td>0</td>\n",
       "      <td>0</td>\n",
       "    </tr>\n",
       "    <tr>\n",
       "      <th>3</th>\n",
       "      <td>http</td>\n",
       "      <td>linkedin.com</td>\n",
       "      <td></td>\n",
       "      <td>no</td>\n",
       "      <td>0</td>\n",
       "      <td>0</td>\n",
       "    </tr>\n",
       "    <tr>\n",
       "      <th>4</th>\n",
       "      <td>http</td>\n",
       "      <td>imageshack.com</td>\n",
       "      <td>f/219/cadir2yr3.jpg</td>\n",
       "      <td>no</td>\n",
       "      <td>0</td>\n",
       "      <td>0</td>\n",
       "    </tr>\n",
       "    <tr>\n",
       "      <th>...</th>\n",
       "      <td>...</td>\n",
       "      <td>...</td>\n",
       "      <td>...</td>\n",
       "      <td>...</td>\n",
       "      <td>...</td>\n",
       "      <td>...</td>\n",
       "    </tr>\n",
       "    <tr>\n",
       "      <th>1776</th>\n",
       "      <td>https</td>\n",
       "      <td>docs.google.com</td>\n",
       "      <td>document/u/1/</td>\n",
       "      <td>no</td>\n",
       "      <td>0</td>\n",
       "      <td>0</td>\n",
       "    </tr>\n",
       "    <tr>\n",
       "      <th>1777</th>\n",
       "      <td>http</td>\n",
       "      <td>www.charlestodd.com</td>\n",
       "      <td>wp-includes/pomo/adobe2.html</td>\n",
       "      <td>yes</td>\n",
       "      <td>2</td>\n",
       "      <td>0</td>\n",
       "    </tr>\n",
       "    <tr>\n",
       "      <th>1778</th>\n",
       "      <td>http</td>\n",
       "      <td>tslimpact.com</td>\n",
       "      <td>medsynaptic/wp-content/themes/twentyseventeen/...</td>\n",
       "      <td>yes</td>\n",
       "      <td>1</td>\n",
       "      <td>0</td>\n",
       "    </tr>\n",
       "    <tr>\n",
       "      <th>1779</th>\n",
       "      <td>http</td>\n",
       "      <td>daoudilorin11.mystagingwebsite.com</td>\n",
       "      <td>wp-content/plugins/ubh/acc/dir/68e1c/dir/car.php</td>\n",
       "      <td>yes</td>\n",
       "      <td>1</td>\n",
       "      <td>0</td>\n",
       "    </tr>\n",
       "    <tr>\n",
       "      <th>1780</th>\n",
       "      <td>https</td>\n",
       "      <td>stom05.ru</td>\n",
       "      <td>asb.co.nz</td>\n",
       "      <td>yes</td>\n",
       "      <td>0</td>\n",
       "      <td>0</td>\n",
       "    </tr>\n",
       "  </tbody>\n",
       "</table>\n",
       "<p>1781 rows × 6 columns</p>\n",
       "</div>"
      ],
      "text/plain": [
       "     protocol                            domain_name  \\\n",
       "0       https  locking-app-adverds.000webhostapp.com   \n",
       "1        http            www.myhealthcarepharmacy.ca   \n",
       "2        http                        code.google.com   \n",
       "3        http                           linkedin.com   \n",
       "4        http                         imageshack.com   \n",
       "...       ...                                    ...   \n",
       "1776    https                        docs.google.com   \n",
       "1777     http                    www.charlestodd.com   \n",
       "1778     http                          tslimpact.com   \n",
       "1779     http     daoudilorin11.mystagingwebsite.com   \n",
       "1780    https                              stom05.ru   \n",
       "\n",
       "                                                address is_phished  long_url  \\\n",
       "0     payment-update-0.html?fb_source=bookmark_apps&...        yes         1   \n",
       "1                         wp-includes/js/jquery/ini.php        yes         2   \n",
       "2                                      p/pylevenshtein/         no         0   \n",
       "3                                                               no         0   \n",
       "4                                   f/219/cadir2yr3.jpg         no         0   \n",
       "...                                                 ...        ...       ...   \n",
       "1776                                      document/u/1/         no         0   \n",
       "1777                       wp-includes/pomo/adobe2.html        yes         2   \n",
       "1778  medsynaptic/wp-content/themes/twentyseventeen/...        yes         1   \n",
       "1779   wp-content/plugins/ubh/acc/dir/68e1c/dir/car.php        yes         1   \n",
       "1780                                          asb.co.nz        yes         0   \n",
       "\n",
       "      having_@_symbol  \n",
       "0                   0  \n",
       "1                   0  \n",
       "2                   0  \n",
       "3                   0  \n",
       "4                   0  \n",
       "...               ...  \n",
       "1776                0  \n",
       "1777                0  \n",
       "1778                0  \n",
       "1779                0  \n",
       "1780                0  \n",
       "\n",
       "[1781 rows x 6 columns]"
      ]
     },
     "execution_count": 23,
     "metadata": {},
     "output_type": "execute_result"
    }
   ],
   "source": [
    "splitted_data"
   ]
  },
  {
   "attachments": {},
   "cell_type": "markdown",
   "metadata": {},
   "source": [
    "Feature-3\n",
    "\n",
    "3.Redirecting using “//”\n",
    "\n",
    "The existence of “//” within the URL path means that the user will be redirected to another website.\n",
    "An example of such URL’s is: “http://www.legitimate.com//http://www.phishing.com”. \n",
    "We examine the location where the “//” appears. \n",
    "We find that if the URL starts with “HTTP”, that means the “//” should appear in the sixth position. \n",
    "However, if the URL employs “HTTPS” then the “//” should appear in seventh position.\n",
    "\n",
    "IF {ThePosition of the Last Occurrence of \"//\" in the URL > 7→ Phishing\n",
    "    \n",
    "    Otherwise→ Legitimate\n",
    "\n",
    "0 --- indicates legitimate\n",
    "\n",
    "1 --- indicates Phishing\n"
   ]
  },
  {
   "cell_type": "code",
   "execution_count": 24,
   "metadata": {},
   "outputs": [],
   "source": [
    "def redirection(l):\n",
    "    \"\"\"If the url has symbol(//) after protocol then such URL is to be classified as phishing \"\"\"\n",
    "    if \"//\" in str(l):\n",
    "        return 1\n",
    "    return 0"
   ]
  },
  {
   "cell_type": "code",
   "execution_count": 25,
   "metadata": {},
   "outputs": [],
   "source": [
    "splitted_data['redirection_//_symbol'] = seperation_of_protocol[1].apply(redirection)"
   ]
  },
  {
   "cell_type": "code",
   "execution_count": 26,
   "metadata": {},
   "outputs": [
    {
     "data": {
      "text/html": [
       "<div>\n",
       "<style scoped>\n",
       "    .dataframe tbody tr th:only-of-type {\n",
       "        vertical-align: middle;\n",
       "    }\n",
       "\n",
       "    .dataframe tbody tr th {\n",
       "        vertical-align: top;\n",
       "    }\n",
       "\n",
       "    .dataframe thead th {\n",
       "        text-align: right;\n",
       "    }\n",
       "</style>\n",
       "<table border=\"1\" class=\"dataframe\">\n",
       "  <thead>\n",
       "    <tr style=\"text-align: right;\">\n",
       "      <th></th>\n",
       "      <th>protocol</th>\n",
       "      <th>domain_name</th>\n",
       "      <th>address</th>\n",
       "      <th>is_phished</th>\n",
       "      <th>long_url</th>\n",
       "      <th>having_@_symbol</th>\n",
       "      <th>redirection_//_symbol</th>\n",
       "    </tr>\n",
       "  </thead>\n",
       "  <tbody>\n",
       "    <tr>\n",
       "      <th>0</th>\n",
       "      <td>https</td>\n",
       "      <td>locking-app-adverds.000webhostapp.com</td>\n",
       "      <td>payment-update-0.html?fb_source=bookmark_apps&amp;...</td>\n",
       "      <td>yes</td>\n",
       "      <td>1</td>\n",
       "      <td>0</td>\n",
       "      <td>0</td>\n",
       "    </tr>\n",
       "    <tr>\n",
       "      <th>1</th>\n",
       "      <td>http</td>\n",
       "      <td>www.myhealthcarepharmacy.ca</td>\n",
       "      <td>wp-includes/js/jquery/ini.php</td>\n",
       "      <td>yes</td>\n",
       "      <td>2</td>\n",
       "      <td>0</td>\n",
       "      <td>0</td>\n",
       "    </tr>\n",
       "    <tr>\n",
       "      <th>2</th>\n",
       "      <td>http</td>\n",
       "      <td>code.google.com</td>\n",
       "      <td>p/pylevenshtein/</td>\n",
       "      <td>no</td>\n",
       "      <td>0</td>\n",
       "      <td>0</td>\n",
       "      <td>0</td>\n",
       "    </tr>\n",
       "    <tr>\n",
       "      <th>3</th>\n",
       "      <td>http</td>\n",
       "      <td>linkedin.com</td>\n",
       "      <td></td>\n",
       "      <td>no</td>\n",
       "      <td>0</td>\n",
       "      <td>0</td>\n",
       "      <td>0</td>\n",
       "    </tr>\n",
       "    <tr>\n",
       "      <th>4</th>\n",
       "      <td>http</td>\n",
       "      <td>imageshack.com</td>\n",
       "      <td>f/219/cadir2yr3.jpg</td>\n",
       "      <td>no</td>\n",
       "      <td>0</td>\n",
       "      <td>0</td>\n",
       "      <td>0</td>\n",
       "    </tr>\n",
       "  </tbody>\n",
       "</table>\n",
       "</div>"
      ],
      "text/plain": [
       "  protocol                            domain_name  \\\n",
       "0    https  locking-app-adverds.000webhostapp.com   \n",
       "1     http            www.myhealthcarepharmacy.ca   \n",
       "2     http                        code.google.com   \n",
       "3     http                           linkedin.com   \n",
       "4     http                         imageshack.com   \n",
       "\n",
       "                                             address is_phished  long_url  \\\n",
       "0  payment-update-0.html?fb_source=bookmark_apps&...        yes         1   \n",
       "1                      wp-includes/js/jquery/ini.php        yes         2   \n",
       "2                                   p/pylevenshtein/         no         0   \n",
       "3                                                            no         0   \n",
       "4                                f/219/cadir2yr3.jpg         no         0   \n",
       "\n",
       "   having_@_symbol  redirection_//_symbol  \n",
       "0                0                      0  \n",
       "1                0                      0  \n",
       "2                0                      0  \n",
       "3                0                      0  \n",
       "4                0                      0  "
      ]
     },
     "execution_count": 26,
     "metadata": {},
     "output_type": "execute_result"
    }
   ],
   "source": [
    "splitted_data.head()"
   ]
  },
  {
   "attachments": {},
   "cell_type": "markdown",
   "metadata": {},
   "source": [
    "Feature-4\n",
    "\n",
    "4.Adding Prefix or Suffix Separated by (-) to the Domain\n",
    "\n",
    "The dash symbol is rarely used in legitimate URLs. Phishers tend to add prefixes or suffixes separated by (-) to the domain name\n",
    "so that users feel that they are dealing with a legitimate webpage. \n",
    "\n",
    "For example http://www.Confirme-paypal.com/.\n",
    "    \n",
    "IF {Domain Name Part Includes (−) Symbol → Phishing\n",
    "    \n",
    "    Otherwise → Legitimate\n",
    "    \n",
    "1 --> indicates phishing\n",
    "\n",
    "0 --> indicates legitimate\n",
    "    "
   ]
  },
  {
   "cell_type": "code",
   "execution_count": 27,
   "metadata": {},
   "outputs": [],
   "source": [
    "def prefix_suffix_seperation(l):\n",
    "    if '-' in str(l):\n",
    "        return 1\n",
    "    return 0"
   ]
  },
  {
   "cell_type": "code",
   "execution_count": 28,
   "metadata": {},
   "outputs": [],
   "source": [
    "splitted_data['prefix_suffix_seperation'] = seperation_domain_name['domain_name'].apply(prefix_suffix_seperation)"
   ]
  },
  {
   "cell_type": "code",
   "execution_count": 29,
   "metadata": {},
   "outputs": [
    {
     "data": {
      "text/html": [
       "<div>\n",
       "<style scoped>\n",
       "    .dataframe tbody tr th:only-of-type {\n",
       "        vertical-align: middle;\n",
       "    }\n",
       "\n",
       "    .dataframe tbody tr th {\n",
       "        vertical-align: top;\n",
       "    }\n",
       "\n",
       "    .dataframe thead th {\n",
       "        text-align: right;\n",
       "    }\n",
       "</style>\n",
       "<table border=\"1\" class=\"dataframe\">\n",
       "  <thead>\n",
       "    <tr style=\"text-align: right;\">\n",
       "      <th></th>\n",
       "      <th>protocol</th>\n",
       "      <th>domain_name</th>\n",
       "      <th>address</th>\n",
       "      <th>is_phished</th>\n",
       "      <th>long_url</th>\n",
       "      <th>having_@_symbol</th>\n",
       "      <th>redirection_//_symbol</th>\n",
       "      <th>prefix_suffix_seperation</th>\n",
       "    </tr>\n",
       "  </thead>\n",
       "  <tbody>\n",
       "    <tr>\n",
       "      <th>0</th>\n",
       "      <td>https</td>\n",
       "      <td>locking-app-adverds.000webhostapp.com</td>\n",
       "      <td>payment-update-0.html?fb_source=bookmark_apps&amp;...</td>\n",
       "      <td>yes</td>\n",
       "      <td>1</td>\n",
       "      <td>0</td>\n",
       "      <td>0</td>\n",
       "      <td>1</td>\n",
       "    </tr>\n",
       "    <tr>\n",
       "      <th>1</th>\n",
       "      <td>http</td>\n",
       "      <td>www.myhealthcarepharmacy.ca</td>\n",
       "      <td>wp-includes/js/jquery/ini.php</td>\n",
       "      <td>yes</td>\n",
       "      <td>2</td>\n",
       "      <td>0</td>\n",
       "      <td>0</td>\n",
       "      <td>0</td>\n",
       "    </tr>\n",
       "    <tr>\n",
       "      <th>2</th>\n",
       "      <td>http</td>\n",
       "      <td>code.google.com</td>\n",
       "      <td>p/pylevenshtein/</td>\n",
       "      <td>no</td>\n",
       "      <td>0</td>\n",
       "      <td>0</td>\n",
       "      <td>0</td>\n",
       "      <td>0</td>\n",
       "    </tr>\n",
       "    <tr>\n",
       "      <th>3</th>\n",
       "      <td>http</td>\n",
       "      <td>linkedin.com</td>\n",
       "      <td></td>\n",
       "      <td>no</td>\n",
       "      <td>0</td>\n",
       "      <td>0</td>\n",
       "      <td>0</td>\n",
       "      <td>0</td>\n",
       "    </tr>\n",
       "    <tr>\n",
       "      <th>4</th>\n",
       "      <td>http</td>\n",
       "      <td>imageshack.com</td>\n",
       "      <td>f/219/cadir2yr3.jpg</td>\n",
       "      <td>no</td>\n",
       "      <td>0</td>\n",
       "      <td>0</td>\n",
       "      <td>0</td>\n",
       "      <td>0</td>\n",
       "    </tr>\n",
       "  </tbody>\n",
       "</table>\n",
       "</div>"
      ],
      "text/plain": [
       "  protocol                            domain_name  \\\n",
       "0    https  locking-app-adverds.000webhostapp.com   \n",
       "1     http            www.myhealthcarepharmacy.ca   \n",
       "2     http                        code.google.com   \n",
       "3     http                           linkedin.com   \n",
       "4     http                         imageshack.com   \n",
       "\n",
       "                                             address is_phished  long_url  \\\n",
       "0  payment-update-0.html?fb_source=bookmark_apps&...        yes         1   \n",
       "1                      wp-includes/js/jquery/ini.php        yes         2   \n",
       "2                                   p/pylevenshtein/         no         0   \n",
       "3                                                            no         0   \n",
       "4                                f/219/cadir2yr3.jpg         no         0   \n",
       "\n",
       "   having_@_symbol  redirection_//_symbol  prefix_suffix_seperation  \n",
       "0                0                      0                         1  \n",
       "1                0                      0                         0  \n",
       "2                0                      0                         0  \n",
       "3                0                      0                         0  \n",
       "4                0                      0                         0  "
      ]
     },
     "execution_count": 29,
     "metadata": {},
     "output_type": "execute_result"
    }
   ],
   "source": [
    "splitted_data.head()"
   ]
  },
  {
   "attachments": {},
   "cell_type": "markdown",
   "metadata": {},
   "source": [
    "Feature - 5\n",
    "\n",
    "5. Sub-Domain and Multi Sub-Domains\n",
    "\n",
    "The legitimate URL link has two dots in the URL since we can ignore typing “www.”. \n",
    "If the number of dots is equal to three then the URL is classified as “Suspicious” since it has one sub-domain.\n",
    "However, if the dots are greater than three it is classified as “Phishy” since it will have multiple sub-domains\n",
    "\n",
    "0 --- indicates legitimate\n",
    "\n",
    "1 --- indicates Phishing\n",
    "\n",
    "2 --- indicates Suspicious\n"
   ]
  },
  {
   "cell_type": "code",
   "execution_count": 30,
   "metadata": {},
   "outputs": [],
   "source": [
    "def sub_domains(l):\n",
    "    l= str(l)\n",
    "    if l.count('.') < 3:\n",
    "        return 0\n",
    "    elif l.count('.') == 3:\n",
    "        return 2\n",
    "    return 1"
   ]
  },
  {
   "cell_type": "code",
   "execution_count": 31,
   "metadata": {},
   "outputs": [],
   "source": [
    "splitted_data['sub_domains'] = splitted_data['domain_name'].apply(sub_domains)"
   ]
  },
  {
   "cell_type": "code",
   "execution_count": 32,
   "metadata": {},
   "outputs": [
    {
     "data": {
      "text/html": [
       "<div>\n",
       "<style scoped>\n",
       "    .dataframe tbody tr th:only-of-type {\n",
       "        vertical-align: middle;\n",
       "    }\n",
       "\n",
       "    .dataframe tbody tr th {\n",
       "        vertical-align: top;\n",
       "    }\n",
       "\n",
       "    .dataframe thead th {\n",
       "        text-align: right;\n",
       "    }\n",
       "</style>\n",
       "<table border=\"1\" class=\"dataframe\">\n",
       "  <thead>\n",
       "    <tr style=\"text-align: right;\">\n",
       "      <th></th>\n",
       "      <th>protocol</th>\n",
       "      <th>domain_name</th>\n",
       "      <th>address</th>\n",
       "      <th>is_phished</th>\n",
       "      <th>long_url</th>\n",
       "      <th>having_@_symbol</th>\n",
       "      <th>redirection_//_symbol</th>\n",
       "      <th>prefix_suffix_seperation</th>\n",
       "      <th>sub_domains</th>\n",
       "    </tr>\n",
       "  </thead>\n",
       "  <tbody>\n",
       "    <tr>\n",
       "      <th>0</th>\n",
       "      <td>https</td>\n",
       "      <td>locking-app-adverds.000webhostapp.com</td>\n",
       "      <td>payment-update-0.html?fb_source=bookmark_apps&amp;...</td>\n",
       "      <td>yes</td>\n",
       "      <td>1</td>\n",
       "      <td>0</td>\n",
       "      <td>0</td>\n",
       "      <td>1</td>\n",
       "      <td>0</td>\n",
       "    </tr>\n",
       "    <tr>\n",
       "      <th>1</th>\n",
       "      <td>http</td>\n",
       "      <td>www.myhealthcarepharmacy.ca</td>\n",
       "      <td>wp-includes/js/jquery/ini.php</td>\n",
       "      <td>yes</td>\n",
       "      <td>2</td>\n",
       "      <td>0</td>\n",
       "      <td>0</td>\n",
       "      <td>0</td>\n",
       "      <td>0</td>\n",
       "    </tr>\n",
       "    <tr>\n",
       "      <th>2</th>\n",
       "      <td>http</td>\n",
       "      <td>code.google.com</td>\n",
       "      <td>p/pylevenshtein/</td>\n",
       "      <td>no</td>\n",
       "      <td>0</td>\n",
       "      <td>0</td>\n",
       "      <td>0</td>\n",
       "      <td>0</td>\n",
       "      <td>0</td>\n",
       "    </tr>\n",
       "    <tr>\n",
       "      <th>3</th>\n",
       "      <td>http</td>\n",
       "      <td>linkedin.com</td>\n",
       "      <td></td>\n",
       "      <td>no</td>\n",
       "      <td>0</td>\n",
       "      <td>0</td>\n",
       "      <td>0</td>\n",
       "      <td>0</td>\n",
       "      <td>0</td>\n",
       "    </tr>\n",
       "    <tr>\n",
       "      <th>4</th>\n",
       "      <td>http</td>\n",
       "      <td>imageshack.com</td>\n",
       "      <td>f/219/cadir2yr3.jpg</td>\n",
       "      <td>no</td>\n",
       "      <td>0</td>\n",
       "      <td>0</td>\n",
       "      <td>0</td>\n",
       "      <td>0</td>\n",
       "      <td>0</td>\n",
       "    </tr>\n",
       "    <tr>\n",
       "      <th>...</th>\n",
       "      <td>...</td>\n",
       "      <td>...</td>\n",
       "      <td>...</td>\n",
       "      <td>...</td>\n",
       "      <td>...</td>\n",
       "      <td>...</td>\n",
       "      <td>...</td>\n",
       "      <td>...</td>\n",
       "      <td>...</td>\n",
       "    </tr>\n",
       "    <tr>\n",
       "      <th>1776</th>\n",
       "      <td>https</td>\n",
       "      <td>docs.google.com</td>\n",
       "      <td>document/u/1/</td>\n",
       "      <td>no</td>\n",
       "      <td>0</td>\n",
       "      <td>0</td>\n",
       "      <td>0</td>\n",
       "      <td>0</td>\n",
       "      <td>0</td>\n",
       "    </tr>\n",
       "    <tr>\n",
       "      <th>1777</th>\n",
       "      <td>http</td>\n",
       "      <td>www.charlestodd.com</td>\n",
       "      <td>wp-includes/pomo/adobe2.html</td>\n",
       "      <td>yes</td>\n",
       "      <td>2</td>\n",
       "      <td>0</td>\n",
       "      <td>0</td>\n",
       "      <td>0</td>\n",
       "      <td>0</td>\n",
       "    </tr>\n",
       "    <tr>\n",
       "      <th>1778</th>\n",
       "      <td>http</td>\n",
       "      <td>tslimpact.com</td>\n",
       "      <td>medsynaptic/wp-content/themes/twentyseventeen/...</td>\n",
       "      <td>yes</td>\n",
       "      <td>1</td>\n",
       "      <td>0</td>\n",
       "      <td>0</td>\n",
       "      <td>0</td>\n",
       "      <td>0</td>\n",
       "    </tr>\n",
       "    <tr>\n",
       "      <th>1779</th>\n",
       "      <td>http</td>\n",
       "      <td>daoudilorin11.mystagingwebsite.com</td>\n",
       "      <td>wp-content/plugins/ubh/acc/dir/68e1c/dir/car.php</td>\n",
       "      <td>yes</td>\n",
       "      <td>1</td>\n",
       "      <td>0</td>\n",
       "      <td>0</td>\n",
       "      <td>0</td>\n",
       "      <td>0</td>\n",
       "    </tr>\n",
       "    <tr>\n",
       "      <th>1780</th>\n",
       "      <td>https</td>\n",
       "      <td>stom05.ru</td>\n",
       "      <td>asb.co.nz</td>\n",
       "      <td>yes</td>\n",
       "      <td>0</td>\n",
       "      <td>0</td>\n",
       "      <td>0</td>\n",
       "      <td>0</td>\n",
       "      <td>0</td>\n",
       "    </tr>\n",
       "  </tbody>\n",
       "</table>\n",
       "<p>1781 rows × 9 columns</p>\n",
       "</div>"
      ],
      "text/plain": [
       "     protocol                            domain_name  \\\n",
       "0       https  locking-app-adverds.000webhostapp.com   \n",
       "1        http            www.myhealthcarepharmacy.ca   \n",
       "2        http                        code.google.com   \n",
       "3        http                           linkedin.com   \n",
       "4        http                         imageshack.com   \n",
       "...       ...                                    ...   \n",
       "1776    https                        docs.google.com   \n",
       "1777     http                    www.charlestodd.com   \n",
       "1778     http                          tslimpact.com   \n",
       "1779     http     daoudilorin11.mystagingwebsite.com   \n",
       "1780    https                              stom05.ru   \n",
       "\n",
       "                                                address is_phished  long_url  \\\n",
       "0     payment-update-0.html?fb_source=bookmark_apps&...        yes         1   \n",
       "1                         wp-includes/js/jquery/ini.php        yes         2   \n",
       "2                                      p/pylevenshtein/         no         0   \n",
       "3                                                               no         0   \n",
       "4                                   f/219/cadir2yr3.jpg         no         0   \n",
       "...                                                 ...        ...       ...   \n",
       "1776                                      document/u/1/         no         0   \n",
       "1777                       wp-includes/pomo/adobe2.html        yes         2   \n",
       "1778  medsynaptic/wp-content/themes/twentyseventeen/...        yes         1   \n",
       "1779   wp-content/plugins/ubh/acc/dir/68e1c/dir/car.php        yes         1   \n",
       "1780                                          asb.co.nz        yes         0   \n",
       "\n",
       "      having_@_symbol  redirection_//_symbol  prefix_suffix_seperation  \\\n",
       "0                   0                      0                         1   \n",
       "1                   0                      0                         0   \n",
       "2                   0                      0                         0   \n",
       "3                   0                      0                         0   \n",
       "4                   0                      0                         0   \n",
       "...               ...                    ...                       ...   \n",
       "1776                0                      0                         0   \n",
       "1777                0                      0                         0   \n",
       "1778                0                      0                         0   \n",
       "1779                0                      0                         0   \n",
       "1780                0                      0                         0   \n",
       "\n",
       "      sub_domains  \n",
       "0               0  \n",
       "1               0  \n",
       "2               0  \n",
       "3               0  \n",
       "4               0  \n",
       "...           ...  \n",
       "1776            0  \n",
       "1777            0  \n",
       "1778            0  \n",
       "1779            0  \n",
       "1780            0  \n",
       "\n",
       "[1781 rows x 9 columns]"
      ]
     },
     "execution_count": 32,
     "metadata": {},
     "output_type": "execute_result"
    }
   ],
   "source": [
    "splitted_data"
   ]
  },
  {
   "attachments": {},
   "cell_type": "markdown",
   "metadata": {},
   "source": [
    "### Classification of URLs using Random forest "
   ]
  },
  {
   "cell_type": "code",
   "execution_count": 48,
   "metadata": {},
   "outputs": [],
   "source": [
    "from sklearn.ensemble._forest import RandomForestClassifier\n",
    "from sklearn.metrics import confusion_matrix, accuracy_score"
   ]
  },
  {
   "cell_type": "code",
   "execution_count": 34,
   "metadata": {},
   "outputs": [
    {
     "data": {
      "text/plain": [
       "Index(['long_url', 'having_@_symbol', 'redirection_//_symbol',\n",
       "       'prefix_suffix_seperation', 'sub_domains'],\n",
       "      dtype='object')"
      ]
     },
     "execution_count": 34,
     "metadata": {},
     "output_type": "execute_result"
    }
   ],
   "source": [
    "#Features\n",
    "x = splitted_data.columns[4:9]\n",
    "x   "
   ]
  },
  {
   "cell_type": "code",
   "execution_count": 35,
   "metadata": {},
   "outputs": [
    {
     "data": {
      "text/plain": [
       "array([0, 0, 1, ..., 0, 0, 0], dtype=int64)"
      ]
     },
     "execution_count": 35,
     "metadata": {},
     "output_type": "execute_result"
    }
   ],
   "source": [
    "#variable to be predicted; yes = 0 and no = 1\n",
    "y = pd.factorize(splitted_data['is_phished'])[0]\n",
    "y "
   ]
  },
  {
   "cell_type": "code",
   "execution_count": 36,
   "metadata": {},
   "outputs": [
    {
     "data": {
      "text/html": [
       "<style>#sk-container-id-1 {color: black;background-color: white;}#sk-container-id-1 pre{padding: 0;}#sk-container-id-1 div.sk-toggleable {background-color: white;}#sk-container-id-1 label.sk-toggleable__label {cursor: pointer;display: block;width: 100%;margin-bottom: 0;padding: 0.3em;box-sizing: border-box;text-align: center;}#sk-container-id-1 label.sk-toggleable__label-arrow:before {content: \"▸\";float: left;margin-right: 0.25em;color: #696969;}#sk-container-id-1 label.sk-toggleable__label-arrow:hover:before {color: black;}#sk-container-id-1 div.sk-estimator:hover label.sk-toggleable__label-arrow:before {color: black;}#sk-container-id-1 div.sk-toggleable__content {max-height: 0;max-width: 0;overflow: hidden;text-align: left;background-color: #f0f8ff;}#sk-container-id-1 div.sk-toggleable__content pre {margin: 0.2em;color: black;border-radius: 0.25em;background-color: #f0f8ff;}#sk-container-id-1 input.sk-toggleable__control:checked~div.sk-toggleable__content {max-height: 200px;max-width: 100%;overflow: auto;}#sk-container-id-1 input.sk-toggleable__control:checked~label.sk-toggleable__label-arrow:before {content: \"▾\";}#sk-container-id-1 div.sk-estimator input.sk-toggleable__control:checked~label.sk-toggleable__label {background-color: #d4ebff;}#sk-container-id-1 div.sk-label input.sk-toggleable__control:checked~label.sk-toggleable__label {background-color: #d4ebff;}#sk-container-id-1 input.sk-hidden--visually {border: 0;clip: rect(1px 1px 1px 1px);clip: rect(1px, 1px, 1px, 1px);height: 1px;margin: -1px;overflow: hidden;padding: 0;position: absolute;width: 1px;}#sk-container-id-1 div.sk-estimator {font-family: monospace;background-color: #f0f8ff;border: 1px dotted black;border-radius: 0.25em;box-sizing: border-box;margin-bottom: 0.5em;}#sk-container-id-1 div.sk-estimator:hover {background-color: #d4ebff;}#sk-container-id-1 div.sk-parallel-item::after {content: \"\";width: 100%;border-bottom: 1px solid gray;flex-grow: 1;}#sk-container-id-1 div.sk-label:hover label.sk-toggleable__label {background-color: #d4ebff;}#sk-container-id-1 div.sk-serial::before {content: \"\";position: absolute;border-left: 1px solid gray;box-sizing: border-box;top: 0;bottom: 0;left: 50%;z-index: 0;}#sk-container-id-1 div.sk-serial {display: flex;flex-direction: column;align-items: center;background-color: white;padding-right: 0.2em;padding-left: 0.2em;position: relative;}#sk-container-id-1 div.sk-item {position: relative;z-index: 1;}#sk-container-id-1 div.sk-parallel {display: flex;align-items: stretch;justify-content: center;background-color: white;position: relative;}#sk-container-id-1 div.sk-item::before, #sk-container-id-1 div.sk-parallel-item::before {content: \"\";position: absolute;border-left: 1px solid gray;box-sizing: border-box;top: 0;bottom: 0;left: 50%;z-index: -1;}#sk-container-id-1 div.sk-parallel-item {display: flex;flex-direction: column;z-index: 1;position: relative;background-color: white;}#sk-container-id-1 div.sk-parallel-item:first-child::after {align-self: flex-end;width: 50%;}#sk-container-id-1 div.sk-parallel-item:last-child::after {align-self: flex-start;width: 50%;}#sk-container-id-1 div.sk-parallel-item:only-child::after {width: 0;}#sk-container-id-1 div.sk-dashed-wrapped {border: 1px dashed gray;margin: 0 0.4em 0.5em 0.4em;box-sizing: border-box;padding-bottom: 0.4em;background-color: white;}#sk-container-id-1 div.sk-label label {font-family: monospace;font-weight: bold;display: inline-block;line-height: 1.2em;}#sk-container-id-1 div.sk-label-container {text-align: center;}#sk-container-id-1 div.sk-container {/* jupyter's `normalize.less` sets `[hidden] { display: none; }` but bootstrap.min.css set `[hidden] { display: none !important; }` so we also need the `!important` here to be able to override the default hidden behavior on the sphinx rendered scikit-learn.org. See: https://github.com/scikit-learn/scikit-learn/issues/21755 */display: inline-block !important;position: relative;}#sk-container-id-1 div.sk-text-repr-fallback {display: none;}</style><div id=\"sk-container-id-1\" class=\"sk-top-container\"><div class=\"sk-text-repr-fallback\"><pre>RandomForestClassifier(n_jobs=2, random_state=0)</pre><b>In a Jupyter environment, please rerun this cell to show the HTML representation or trust the notebook. <br />On GitHub, the HTML representation is unable to render, please try loading this page with nbviewer.org.</b></div><div class=\"sk-container\" hidden><div class=\"sk-item\"><div class=\"sk-estimator sk-toggleable\"><input class=\"sk-toggleable__control sk-hidden--visually\" id=\"sk-estimator-id-1\" type=\"checkbox\" checked><label for=\"sk-estimator-id-1\" class=\"sk-toggleable__label sk-toggleable__label-arrow\">RandomForestClassifier</label><div class=\"sk-toggleable__content\"><pre>RandomForestClassifier(n_jobs=2, random_state=0)</pre></div></div></div></div></div>"
      ],
      "text/plain": [
       "RandomForestClassifier(n_jobs=2, random_state=0)"
      ]
     },
     "execution_count": 36,
     "metadata": {},
     "output_type": "execute_result"
    }
   ],
   "source": [
    "# Create a random forest Classifier. By convention, clf means 'Classifier'\n",
    "clf = RandomForestClassifier(n_estimators=100,n_jobs=2,random_state=0)\n",
    "\n",
    "# Train the Classifier to take the training features and learn how they relate\n",
    "# to the training y (the species)\n",
    "clf.fit(splitted_data[x], y)"
   ]
  },
  {
   "cell_type": "code",
   "execution_count": 37,
   "metadata": {},
   "outputs": [],
   "source": [
    "test_data = pd.read_csv(\"dataset3.csv\") "
   ]
  },
  {
   "cell_type": "code",
   "execution_count": 51,
   "metadata": {},
   "outputs": [],
   "source": [
    "import pickle\n",
    "pickle.dump(clf, open('finalized_model.sav', 'wb'))"
   ]
  },
  {
   "cell_type": "code",
   "execution_count": 38,
   "metadata": {},
   "outputs": [
    {
     "data": {
      "text/plain": [
       "array([0, 0, 1, 0, 1, 1, 0, 1, 1, 1, 1, 0, 0, 0, 0, 0, 1, 0, 0, 0, 0, 0,\n",
       "       0, 0, 0, 1, 1, 1, 0, 0, 1, 0, 1, 1, 1, 1, 0, 1, 0, 0, 1, 0, 0, 0,\n",
       "       0, 1, 0, 0, 0, 1, 1, 0, 1, 0, 1, 0, 1, 0, 0, 0, 0, 0, 0, 0, 0, 1,\n",
       "       1, 0, 1, 1, 1, 1, 1, 0, 1, 1, 1, 1, 0, 0, 1, 0, 1, 0, 0, 1, 0, 1,\n",
       "       0, 1, 1, 1, 1, 0, 1, 0, 1, 1, 0, 0, 0, 1, 1, 1, 0, 0, 1, 0, 0, 0,\n",
       "       0, 1, 0, 0, 0, 0, 0, 0, 1, 0, 0, 0, 0, 1, 1, 0, 0, 1, 0, 1, 1, 1,\n",
       "       0, 0, 0, 0, 1, 1, 0, 0, 0, 1, 0, 1, 1, 0, 0, 0, 1, 0, 1, 1, 0, 0,\n",
       "       0, 1, 1, 1, 0, 1, 1, 0, 0, 0, 0, 1, 0, 1, 0, 1, 0, 0, 0, 0, 0, 0,\n",
       "       0, 0, 1, 0, 0, 0, 0, 0, 1, 0, 0, 0, 0, 0, 1, 1, 0, 0, 1, 1, 1, 0,\n",
       "       0, 1, 0, 1, 0, 0, 0, 0, 1, 0, 1, 1, 0, 0, 0, 0, 0, 1, 1, 1, 0, 0,\n",
       "       0, 0, 1, 0, 1, 0, 0, 0, 0, 1, 0, 1, 1, 0, 0, 0, 0, 0, 0, 1, 1, 1,\n",
       "       0, 1, 0, 0, 1, 0, 0, 1, 0, 0, 0, 0, 0, 0, 0, 0, 1, 0, 1, 0, 0, 0,\n",
       "       0, 0, 0, 1, 1, 0, 0, 0, 0, 1, 0, 0, 1, 1, 1, 1, 0, 1, 0, 1, 0, 0,\n",
       "       0, 0, 1, 0, 1, 0, 0, 1, 0, 1, 1, 1, 0, 0, 1, 1, 0, 0, 1, 0, 0, 1,\n",
       "       1, 1, 1, 0, 1, 0, 0, 0, 0, 1, 1, 1, 0, 0, 0, 1, 0, 0, 0, 0, 0, 1,\n",
       "       1, 1, 0, 0, 0, 0, 1, 1, 1, 0, 1, 0, 0, 0, 1, 1, 0, 1, 1, 1, 1, 0,\n",
       "       0, 0, 1, 0, 0, 0, 0, 0, 1, 1, 0, 1, 1, 0, 0, 0, 1, 0, 0, 1, 0, 0,\n",
       "       0, 0, 1, 0, 1, 1, 1, 0, 1, 0, 0, 0, 1, 1, 1, 1], dtype=int64)"
      ]
     },
     "execution_count": 38,
     "metadata": {},
     "output_type": "execute_result"
    }
   ],
   "source": [
    "clf.predict(test_data[x]) #testing the classifier on test data."
   ]
  },
  {
   "cell_type": "code",
   "execution_count": 39,
   "metadata": {},
   "outputs": [
    {
     "data": {
      "text/plain": [
       "array([[0.88800564, 0.11199436],\n",
       "       [0.50510239, 0.49489761],\n",
       "       [0.32367919, 0.67632081],\n",
       "       [0.50510239, 0.49489761],\n",
       "       [0.32367919, 0.67632081],\n",
       "       [0.32367919, 0.67632081],\n",
       "       [0.53582536, 0.46417464],\n",
       "       [0.32367919, 0.67632081],\n",
       "       [0.32367919, 0.67632081],\n",
       "       [0.32367919, 0.67632081]])"
      ]
     },
     "execution_count": 39,
     "metadata": {},
     "output_type": "execute_result"
    }
   ],
   "source": [
    "clf.predict_proba(test_data[x])[0:10] #predicted probability for each class."
   ]
  },
  {
   "attachments": {},
   "cell_type": "markdown",
   "metadata": {},
   "source": [
    "### Evaluating classifier"
   ]
  },
  {
   "cell_type": "code",
   "execution_count": 60,
   "metadata": {},
   "outputs": [],
   "source": [
    "preds = test_data.is_phished[clf.predict(test_data[x])] #predicted values"
   ]
  },
  {
   "cell_type": "code",
   "execution_count": 41,
   "metadata": {},
   "outputs": [
    {
     "data": {
      "text/plain": [
       "0    yes\n",
       "0    yes\n",
       "1     no\n",
       "0    yes\n",
       "1     no\n",
       "1     no\n",
       "0    yes\n",
       "1     no\n",
       "1     no\n",
       "1     no\n",
       "Name: is_phished, dtype: object"
      ]
     },
     "execution_count": 41,
     "metadata": {},
     "output_type": "execute_result"
    }
   ],
   "source": [
    "preds.head(10)"
   ]
  },
  {
   "cell_type": "code",
   "execution_count": 42,
   "metadata": {},
   "outputs": [],
   "source": [
    "actual = pd.Series(test_data['is_phished']) #actual values"
   ]
  },
  {
   "cell_type": "code",
   "execution_count": 43,
   "metadata": {},
   "outputs": [
    {
     "data": {
      "text/plain": [
       "array([[ 94,  80],\n",
       "       [ 64, 152]], dtype=int64)"
      ]
     },
     "execution_count": 43,
     "metadata": {},
     "output_type": "execute_result"
    }
   ],
   "source": [
    "confusion_matrix(actual,preds) "
   ]
  },
  {
   "cell_type": "code",
   "execution_count": 44,
   "metadata": {},
   "outputs": [
    {
     "data": {
      "text/plain": [
       "0.6307692307692307"
      ]
     },
     "execution_count": 44,
     "metadata": {},
     "output_type": "execute_result"
    }
   ],
   "source": [
    "accuracy_score(actual,preds) #accuracy of classifier"
   ]
  },
  {
   "cell_type": "code",
   "execution_count": 45,
   "metadata": {},
   "outputs": [
    {
     "data": {
      "text/plain": [
       "[('long_url', 0.3567302891440939),\n",
       " ('having_@_symbol', 0.012172952111729666),\n",
       " ('redirection_//_symbol', 0.005264801542431981),\n",
       " ('prefix_suffix_seperation', 0.5692813985568205),\n",
       " ('sub_domains', 0.056550558644924025)]"
      ]
     },
     "execution_count": 45,
     "metadata": {},
     "output_type": "execute_result"
    }
   ],
   "source": [
    "#importance of features\n",
    "list(zip(splitted_data[x], clf.feature_importances_))"
   ]
  },
  {
   "cell_type": "code",
   "execution_count": null,
   "metadata": {},
   "outputs": [],
   "source": []
  }
 ],
 "metadata": {
  "kernelspec": {
   "display_name": "Python 3",
   "language": "python",
   "name": "python3"
  },
  "language_info": {
   "codemirror_mode": {
    "name": "ipython",
    "version": 3
   },
   "file_extension": ".py",
   "mimetype": "text/x-python",
   "name": "python",
   "nbconvert_exporter": "python",
   "pygments_lexer": "ipython3",
   "version": "3.11.2"
  },
  "vscode": {
   "interpreter": {
    "hash": "318f2c383d48220c821fefd227250c35bb828f95042f5889a5ad1704b1baf79c"
   }
  }
 },
 "nbformat": 4,
 "nbformat_minor": 2
}
